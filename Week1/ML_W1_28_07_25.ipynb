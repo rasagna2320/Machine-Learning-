{
  "nbformat": 4,
  "nbformat_minor": 0,
  "metadata": {
    "colab": {
      "provenance": []
    },
    "kernelspec": {
      "name": "python3",
      "display_name": "Python 3"
    },
    "language_info": {
      "name": "python"
    }
  },
  "cells": [
    {
      "cell_type": "markdown",
      "source": [
        "Q. Table Product is given. Write the python\n",
        "code for the following:\n",
        "a) To create the data frame for the above table.   \n",
        "b) To add the new rows in the data frame.   \n",
        "c) To display the maximum price of LG TV.    \n",
        "d) To display the Sum of all products.    \n",
        "e) To display the median of the USD of Sony\n",
        "products.    \n",
        "f) To sort the data according to the Rupees."
      ],
      "metadata": {
        "id": "2bc3N2DrTLGG"
      }
    },
    {
      "cell_type": "code",
      "execution_count": 1,
      "metadata": {
        "colab": {
          "base_uri": "https://localhost:8080/"
        },
        "id": "q2wXNUbTRysm",
        "outputId": "9c306f1d-ef39-410e-dd83-d1f622cfcd59"
      },
      "outputs": [
        {
          "output_type": "stream",
          "name": "stdout",
          "text": [
            "  Item   Company  Rupees  USD\n",
            "0   TV        LG   12000  700\n",
            "1   TV  VIDEOCON   10000  650\n",
            "2   TV        LG   15000  800\n",
            "3   AC      SONY   14000  750\n",
            "After adding new row:\n",
            "  Item   Company  Rupees  USD\n",
            "0   TV        LG   12000  700\n",
            "1   TV  VIDEOCON   10000  650\n",
            "2   TV        LG   15000  800\n",
            "3   AC      SONY   14000  750\n",
            "4  FAN     Bajaj    8000   96\n",
            "Maximum price of LG TV: 15000\n",
            "Total price: 59000\n",
            "Median of sony products in USD: 750.0\n",
            "Sorting by Rupees:\n",
            "  Item   Company  Rupees  USD\n",
            "0  FAN     Bajaj    8000   96\n",
            "1   TV  VIDEOCON   10000  650\n",
            "2   TV        LG   12000  700\n",
            "3   AC      SONY   14000  750\n",
            "4   TV        LG   15000  800\n"
          ]
        }
      ],
      "source": [
        "#Creating a dataframe\n",
        "import pandas as pd\n",
        "data = {\n",
        "    \"Item\": [\"TV\", \"TV\", \"TV\", \"AC\"],\n",
        "    \"Company\": [\"LG\", \"VIDEOCON\", \"LG\", \"SONY\"],\n",
        "    \"Rupees\": [12000, 10000, 15000, 14000],\n",
        "    \"USD\": [700, 650, 800, 750]\n",
        "}\n",
        "Product = pd.DataFrame(data)\n",
        "print(Product)\n",
        "#Adding new row\n",
        "new_row=pd.DataFrame([{\"Item\":\"FAN\",\"Company\":\"Bajaj\", \"Rupees\":8000,\"USD\":96}])\n",
        "Products=pd.concat([Product,new_row],ignore_index=\"True\")\n",
        "print(\"After adding new row:\")\n",
        "print(Products)\n",
        "#Maximum price of LG TV\n",
        "max_price=Products[(Products[\"Company\"]==\"LG\") & (Products[\"Item\"]==\"TV\")][\"Rupees\"].max()  # Use &, not and\n",
        "print(\"Maximum price of LG TV:\",max_price)\n",
        "#Sum of all products\n",
        "total_price=Products[\"Rupees\"].sum()\n",
        "print(\"Total price:\",total_price)\n",
        "#To display the median of the USD of Sony products.\n",
        "median_=Products[Products[\"Company\"]==\"SONY\"][\"USD\"].median()\n",
        "print(\"Median of sony products in USD:\",median_)\n",
        "#Sorting data by Rupees\n",
        "sorted_Products=Products.sort_values(by=\"Rupees\",ascending=True,ignore_index=\"True\")\n",
        "print(\"Sorting by Rupees:\")\n",
        "print(sorted_Products)"
      ]
    }
  ]
}