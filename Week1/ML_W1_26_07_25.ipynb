{
  "nbformat": 4,
  "nbformat_minor": 0,
  "metadata": {
    "colab": {
      "provenance": []
    },
    "kernelspec": {
      "name": "python3",
      "display_name": "Python 3"
    },
    "language_info": {
      "name": "python"
    }
  },
  "cells": [
    {
      "cell_type": "markdown",
      "source": [
        "Q. Use the DataFrame created sales to\n",
        "do the following:\n",
        "a) Append the DataFrame Sales2 to the DataFrame\n",
        "Sales.       \n",
        "b) Change the DataFrame Sales such that it becomes\n",
        "its transpose.                  \n",
        "c) Display the sales made by all sales persons in the\n",
        "year 2017.           \n",
        "d) Display the sales made by Madhu and Ankit in\n",
        "the year 2017 and 2018.      \n",
        "e) Display the sales made by Shruti 2016.    \n",
        "f) Add data to Sales for salesman Sumeet where\n",
        "the sales made are [196.2, 37800, 52000, 78438,\n",
        "38852] in the years [2014, 2015, 2016, 2017,\n",
        "2018] respectively.        \n",
        "g) Delete the data for the year 2014 from the\n",
        "DataFrame Sales.        \n",
        "h) Delete the data for sales man Kinshuk from the\n",
        "DataFrame Sales.          \n",
        "i) Change the name of the salesperson Ankit to\n",
        "Vivaan and Madhu to Shailesh.          \n",
        "j) Update the sale made by Shailesh in 2018 t0 100000.          \n",
        "k) Write the values of DataFrame Sales to a comma\n",
        "separated file SalesFigures.csv on the disk. Do\n",
        "not write the row labels and column labels.      \n",
        "l) Read the data in the file SalesFigures.csv into\n",
        "a DataFrame SalesRetrieved and Display it.\n",
        "Now update the row labels and column labels of\n",
        "SalesRetrieved to be the same as that of Sales."
      ],
      "metadata": {
        "id": "slt1yq31Q9Li"
      }
    },
    {
      "cell_type": "code",
      "source": [
        "#Creating dataframe\n",
        "import pandas as pd\n",
        "r = [\"Madhu\", \"Kusum\", \"Kinshuk\", \"Ankit\", \"Shruti\"]\n",
        "c = [\"2014\", \"2015\", \"2016\", \"2017\"]\n",
        "values = [\n",
        "    [100.5, 12000, 20000, 50000],\n",
        "    [150.8, 18000, 50000, 60000],\n",
        "    [200.9, 22000, 70000, 70000],\n",
        "    [30000, 30000, 100000, 80000],\n",
        "    [40000, 45000, 125000, 90000]\n",
        "]\n",
        "sales1 = pd.DataFrame(values,index=r,columns = c)\n",
        "\n",
        "d={\n",
        "    \"Madhu\": 160000,\n",
        "    \"Kusum\": 110000,\n",
        "    \"Kinshuk\": 500000,\n",
        "    \"Ankit\": 340000,\n",
        "    \"Shruti\": 900000\n",
        "}\n",
        "sales2=pd.DataFrame(d.values(),index=d.keys(),columns=[\"2018\"])\n",
        "sales1[\"2018\"]=sales2[\"2018\"]\n",
        "print(sales1)"
      ],
      "metadata": {
        "colab": {
          "base_uri": "https://localhost:8080/"
        },
        "id": "fGS5sIiHSTP7",
        "outputId": "a72b24ee-67ae-4a70-e3de-b84e0339a0e5"
      },
      "execution_count": null,
      "outputs": [
        {
          "output_type": "stream",
          "name": "stdout",
          "text": [
            "            2014   2015    2016   2017    2018\n",
            "Madhu      100.5  12000   20000  50000  160000\n",
            "Kusum      150.8  18000   50000  60000  110000\n",
            "Kinshuk    200.9  22000   70000  70000  500000\n",
            "Ankit    30000.0  30000  100000  80000  340000\n",
            "Shruti   40000.0  45000  125000  90000  900000\n"
          ]
        }
      ]
    },
    {
      "cell_type": "code",
      "source": [
        "#Appending a column\n",
        "sales1[\"2018\"]=sales2[\"2018\"]\n",
        "print(\"Appended\\n\",sales1)\n",
        "#Transpose\n",
        "sales_t=sales1.T\n",
        "#Filtering\n",
        "print(\"Sales made by salesmen in 2017\\n\",sales1[\"2017\"]) #Column\n",
        "filtered_columns = sales1[[\"2017\",\"2018\"]]\n",
        "result = filtered_columns.loc[filtered_columns.index.isin([\"Madhu\",\"Ankit\"])]\n",
        "print(\"Specific records in specific years:\\n\",result)\n",
        "print(\"Sales made by Rida in 2016:\",sales1.loc[\"Shruti\",\"2016\"])\n",
        "# Adding a row\n",
        "values = [[196.2, 37800, 52000, 78438,\n",
        "38852]] # 2D imp\n",
        "c=[\"2014\",\"2015\",\"2016\",\"2017\",\"2018\"]\n",
        "s = pd.DataFrame(values,columns=c,index=[\"Sumeet\"])\n",
        "sales = pd.concat([sales1,s], axis=0)\n",
        "print(sales)\n",
        "# Deleting rows\n",
        "sales = sales.drop(\"Kinshuk\")\n",
        "print(\"After deleting Kinshuk records:\")\n",
        "print(sales)\n",
        "#Change the name of the salesperson Ankit to Vivaan and Madhu to Shailesh.\n",
        "sales.rename(index={\"Madhu\":\"Shailesh\",\"Ankit\":\"Vivaan\"},inplace=\"True\")\n",
        "print(\"After Renaming:\")\n",
        "print(sales)\n",
        "#Update the sale made by Shailesh in 2018 to 100000.\n",
        "sales.loc[\"Shailesh\", \"2018\"] = 100000\n",
        "print(\"After changing:\")\n",
        "print(sales)\n",
        "#Write the values of DataFrame Sales to a comma separated file SalesFigures.csv on the disk. Do not write the row labels and column labels.\n",
        "sales.to_csv(\"SalesFigures.csv\", index=False, header=False)\n",
        "#Read the data in the file SalesFigures.csv into a DataFrame SalesRetrieved and Display it.Now update the row labels and column labels of SalesRetrieved to be the same as that of Sales.\n",
        "SalesRetrieved=pd.read_csv(\"SalesFigures.csv\",header= None)\n",
        "SalesRetrieved.index=sales.index\n",
        "SalesRetrieved.columns=sales.columns\n",
        "print(\"SalesRetrived:\")\n",
        "print(SalesRetrieved)"
      ],
      "metadata": {
        "colab": {
          "base_uri": "https://localhost:8080/"
        },
        "id": "hDzmFRt7vdle",
        "outputId": "7dc6898b-ba08-4ec3-bd2e-ab27e8b9e918"
      },
      "execution_count": null,
      "outputs": [
        {
          "output_type": "stream",
          "name": "stdout",
          "text": [
            "Appended\n",
            "             2014   2015    2016   2017    2018\n",
            "Madhu      100.5  12000   20000  50000  160000\n",
            "Kusum      150.8  18000   50000  60000  110000\n",
            "Kinshuk    200.9  22000   70000  70000  500000\n",
            "Ankit    30000.0  30000  100000  80000  340000\n",
            "Shruti   40000.0  45000  125000  90000  900000\n",
            "Sales made by salesmen in 2017\n",
            " Madhu      50000\n",
            "Kusum      60000\n",
            "Kinshuk    70000\n",
            "Ankit      80000\n",
            "Shruti     90000\n",
            "Name: 2017, dtype: int64\n",
            "Specific records in specific years:\n",
            "         2017    2018\n",
            "Madhu  50000  160000\n",
            "Ankit  80000  340000\n",
            "Sales made by Rida in 2016: 125000\n",
            "            2014   2015    2016   2017    2018\n",
            "Madhu      100.5  12000   20000  50000  160000\n",
            "Kusum      150.8  18000   50000  60000  110000\n",
            "Kinshuk    200.9  22000   70000  70000  500000\n",
            "Ankit    30000.0  30000  100000  80000  340000\n",
            "Shruti   40000.0  45000  125000  90000  900000\n",
            "Sumeet     196.2  37800   52000  78438   38852\n",
            "After deleting Kinshuk records:\n",
            "           2014   2015    2016   2017    2018\n",
            "Madhu     100.5  12000   20000  50000  160000\n",
            "Kusum     150.8  18000   50000  60000  110000\n",
            "Ankit   30000.0  30000  100000  80000  340000\n",
            "Shruti  40000.0  45000  125000  90000  900000\n",
            "Sumeet    196.2  37800   52000  78438   38852\n",
            "After Renaming:\n",
            "             2014   2015    2016   2017    2018\n",
            "Shailesh    100.5  12000   20000  50000  160000\n",
            "Kusum       150.8  18000   50000  60000  110000\n",
            "Vivaan    30000.0  30000  100000  80000  340000\n",
            "Shruti    40000.0  45000  125000  90000  900000\n",
            "Sumeet      196.2  37800   52000  78438   38852\n",
            "After changing:\n",
            "             2014   2015    2016   2017    2018\n",
            "Shailesh    100.5  12000   20000  50000  100000\n",
            "Kusum       150.8  18000   50000  60000  110000\n",
            "Vivaan    30000.0  30000  100000  80000  340000\n",
            "Shruti    40000.0  45000  125000  90000  900000\n",
            "Sumeet      196.2  37800   52000  78438   38852\n",
            "SalesRetrived:\n",
            "             2014   2015    2016   2017    2018\n",
            "Shailesh    100.5  12000   20000  50000  100000\n",
            "Kusum       150.8  18000   50000  60000  110000\n",
            "Vivaan    30000.0  30000  100000  80000  340000\n",
            "Shruti    40000.0  45000  125000  90000  900000\n",
            "Sumeet      196.2  37800   52000  78438   38852\n"
          ]
        }
      ]
    }
  ]
}