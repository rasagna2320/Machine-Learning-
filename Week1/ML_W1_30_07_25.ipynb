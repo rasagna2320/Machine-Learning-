{
  "nbformat": 4,
  "nbformat_minor": 0,
  "metadata": {
    "colab": {
      "provenance": []
    },
    "kernelspec": {
      "name": "python3",
      "display_name": "Python 3"
    },
    "language_info": {
      "name": "python"
    }
  },
  "cells": [
    {
      "cell_type": "markdown",
      "source": [
        "Q. Write the python statement for the following question:       \n",
        "a) To create the above DataFrame.    \n",
        "b) To print the Degree and maximum marks in each\n",
        "stream.    \n",
        "c) To fill the NaN with 76.     \n",
        "d) To set the index to Name.     \n",
        "e) To display the name and degree wise average\n",
        "marks of each student.      \n",
        "f) To count the number of students in MBA.       \n",
        "g) To print the mode marks BCA.     "
      ],
      "metadata": {
        "id": "C8tqWd8FT-NZ"
      }
    },
    {
      "cell_type": "code",
      "source": [
        "#Creating dataframe\n",
        "import numpy as np\n",
        "student_data = {\n",
        "    \"Name\": [\"Aparna\", \"Pankaj\", \"Ram\", \"Ramesh\", \"Naveen\", \"Krrishnav\", \"Bhawna\"],\n",
        "    \"Degree\": [\"MBA\", \"BCA\", \"M.Tech\", \"MBA\", np.nan, \"BCA\", \"MBA\"],\n",
        "    \"Score\": [90.0, np.nan, 80.0, 98.0, 97.0, 78.0, 89.0]\n",
        "}\n",
        "students_df = pd.DataFrame(student_data)\n",
        "print(students_df)\n",
        "#Degree and maximum marks\n",
        "print(\"Maximum marks in each degree:\")\n",
        "print(students_df.groupby(\"Degree\").max())\n",
        "#To fill the NaN with 76.\n",
        "students_df[\"Score\"]=students_df[\"Score\"].fillna(76)\n",
        "print(\"After filling nan:\")\n",
        "print(students_df)\n",
        "#To set the index to Name.\n",
        "students_df.index=students_df[\"Name\"]\n",
        "del students_df[\"Name\"]  #To remove redundancy\n",
        "print(\"After settning Name as index:\")\n",
        "print(students_df)\n",
        "#To display the name and degree wise average marks of each student\n",
        "avg_=students_df.groupby([\"Name\",\"Degree\"])[\"Score\"].mean()\n",
        "print(\"Department wise average:\")\n",
        "print(avg_)\n",
        "#To count the number of students in MBA.\n",
        "mba_student_count = students_df[students_df[\"Degree\"] == \"MBA\"].shape[0]\n",
        "print(\"Number of MBA students:\", mba_student_count)\n",
        "#To print the mode marks BCA.\n",
        "mode_of_bca = students_df[students_df[\"Degree\"]==\"BCA\"][\"Score\"].mode()\n",
        "print(\"Mode of BCA students:\")\n",
        "print(mode_of_bca)"
      ],
      "metadata": {
        "colab": {
          "base_uri": "https://localhost:8080/"
        },
        "id": "OPQdhgbmAPss",
        "outputId": "64dd50e8-a135-444c-ee53-d281a6d69afc"
      },
      "execution_count": null,
      "outputs": [
        {
          "output_type": "stream",
          "name": "stdout",
          "text": [
            "        Name  Degree  Score\n",
            "0     Aparna     MBA   90.0\n",
            "1     Pankaj     BCA    NaN\n",
            "2        Ram  M.Tech   80.0\n",
            "3     Ramesh     MBA   98.0\n",
            "4     Naveen     NaN   97.0\n",
            "5  Krrishnav     BCA   78.0\n",
            "6     Bhawna     MBA   89.0\n",
            "Maximum marks in each degree:\n",
            "          Name  Score\n",
            "Degree               \n",
            "BCA     Pankaj   78.0\n",
            "M.Tech     Ram   80.0\n",
            "MBA     Ramesh   98.0\n",
            "After filling nan:\n",
            "        Name  Degree  Score\n",
            "0     Aparna     MBA   90.0\n",
            "1     Pankaj     BCA   76.0\n",
            "2        Ram  M.Tech   80.0\n",
            "3     Ramesh     MBA   98.0\n",
            "4     Naveen     NaN   97.0\n",
            "5  Krrishnav     BCA   78.0\n",
            "6     Bhawna     MBA   89.0\n",
            "After settning Name as index:\n",
            "           Degree  Score\n",
            "Name                    \n",
            "Aparna        MBA   90.0\n",
            "Pankaj        BCA   76.0\n",
            "Ram        M.Tech   80.0\n",
            "Ramesh        MBA   98.0\n",
            "Naveen        NaN   97.0\n",
            "Krrishnav     BCA   78.0\n",
            "Bhawna        MBA   89.0\n",
            "Department wise average:\n",
            "Name       Degree\n",
            "Aparna     MBA       90.0\n",
            "Bhawna     MBA       89.0\n",
            "Krrishnav  BCA       78.0\n",
            "Pankaj     BCA       76.0\n",
            "Ram        M.Tech    80.0\n",
            "Ramesh     MBA       98.0\n",
            "Name: Score, dtype: float64\n",
            "Number of MBA students: 3\n",
            "Mode of BCA students:\n",
            "0    76.0\n",
            "1    78.0\n",
            "Name: Score, dtype: float64\n"
          ]
        }
      ]
    }
  ]
}