{
  "nbformat": 4,
  "nbformat_minor": 0,
  "metadata": {
    "colab": {
      "provenance": []
    },
    "kernelspec": {
      "name": "python3",
      "display_name": "Python 3"
    },
    "language_info": {
      "name": "python"
    }
  },
  "cells": [
    {
      "cell_type": "markdown",
      "source": [
        "## **PANDAS EXERCISES**\n",
        "\n",
        "> Add blockquote\n",
        "\n"
      ],
      "metadata": {
        "id": "_ad0Nym1xfHi"
      }
    },
    {
      "cell_type": "markdown",
      "source": [
        "23-07-25"
      ],
      "metadata": {
        "id": "zSBUZypayIWi"
      }
    },
    {
      "cell_type": "markdown",
      "source": [
        "Q. Create a DataFrame Sales containing\n",
        "year wise sales figures for five sales persons in INR.\n",
        "Use the years as column labels, and sales person\n",
        "names as row labels. Explore diffrent attributes."
      ],
      "metadata": {
        "id": "Mh4A6yQBPQ7o"
      }
    },
    {
      "cell_type": "code",
      "source": [
        "import pandas as pd\n",
        "r = [\"Madhu\", \"Kusum\", \"Kinshuk\", \"Ankit\", \"Shruti\"]\n",
        "c = [\"2014\", \"2015\", \"2016\", \"2017\"]\n",
        "values = [\n",
        "    [100.5, 12000, 20000, 50000],\n",
        "    [150.8, 18000, 50000, 60000],\n",
        "    [200.9, 22000, 70000, 70000],\n",
        "    [30000, 30000, 100000, 80000],\n",
        "    [40000, 45000, 125000, 90000]\n",
        "]\n",
        "sales1 = pd.DataFrame(values,index=r,columns = c)  #Creating dataframe\n",
        "print(sales1)"
      ],
      "metadata": {
        "colab": {
          "base_uri": "https://localhost:8080/"
        },
        "id": "jxG1-IlWwV7q",
        "outputId": "0734f473-6a09-4453-aada-6a6a440ed647"
      },
      "execution_count": null,
      "outputs": [
        {
          "output_type": "stream",
          "name": "stdout",
          "text": [
            "            2014   2015    2016   2017\n",
            "Madhu      100.5  12000   20000  50000\n",
            "Kusum      150.8  18000   50000  60000\n",
            "Kinshuk    200.9  22000   70000  70000\n",
            "Ankit    30000.0  30000  100000  80000\n",
            "Shruti   40000.0  45000  125000  90000\n"
          ]
        }
      ]
    },
    {
      "cell_type": "code",
      "source": [
        "#Diff Attributes\n",
        "print(\"1.Rows:\",sales1.index)\n",
        "print(\"2.Columns:\",sales1.columns)\n",
        "print(\"3.Datatypes of Different columns:\")\n",
        "print(sales1.dtypes)\n",
        "print(\"4.Dimensions:\",sales1.ndim)\n",
        "print(\"5.Shape:\",sales1.shape)\n",
        "print(\"6.Size:\",sales1.size)\n",
        "print(\"7.Values:\",sales1.values)\n",
        "print(\"8.Last two rows:\",sales1.tail(2))\n",
        "print(\"9.First two columns\",sales1.iloc[:,:2])\n",
        "d={\n",
        "    \"Madhu\": 160000,\n",
        "    \"Kusum\": 110000,\n",
        "    \"Kinshuk\": 500000,\n",
        "    \"Ankit\": 340000,\n",
        "    \"Shruti\": 900000\n",
        "}\n",
        "print(\"10.SALES2\")\n",
        "sales2=pd.DataFrame(d.values(),index=d.keys(),columns=[\"2018\"])\n",
        "print(sales2)\n",
        "print(\"Empty?\",sales1.empty)"
      ],
      "metadata": {
        "colab": {
          "base_uri": "https://localhost:8080/"
        },
        "id": "fBOIhSxnzwTa",
        "outputId": "f0c92c11-f1ae-41b1-ac6e-6213f7b9c030"
      },
      "execution_count": null,
      "outputs": [
        {
          "output_type": "stream",
          "name": "stdout",
          "text": [
            "1.Rows: Index(['Madhu', 'Kusum', 'Kinshuk', 'Ankit', 'Shruti'], dtype='object')\n",
            "2.Columns: Index(['2014', '2015', '2016', '2017'], dtype='object')\n",
            "3.Datatypes of Different columns:\n",
            "2014    float64\n",
            "2015      int64\n",
            "2016      int64\n",
            "2017      int64\n",
            "dtype: object\n",
            "4.Dimensions: 2\n",
            "5.Shape: (5, 4)\n",
            "6.Size: 20\n",
            "7.Values: [[1.005e+02 1.200e+04 2.000e+04 5.000e+04]\n",
            " [1.508e+02 1.800e+04 5.000e+04 6.000e+04]\n",
            " [2.009e+02 2.200e+04 7.000e+04 7.000e+04]\n",
            " [3.000e+04 3.000e+04 1.000e+05 8.000e+04]\n",
            " [4.000e+04 4.500e+04 1.250e+05 9.000e+04]]\n",
            "8.Last two rows:            2014   2015    2016   2017\n",
            "Ankit   30000.0  30000  100000  80000\n",
            "Shruti  40000.0  45000  125000  90000\n",
            "9.First two columns             2014   2015\n",
            "Madhu      100.5  12000\n",
            "Kusum      150.8  18000\n",
            "Kinshuk    200.9  22000\n",
            "Ankit    30000.0  30000\n",
            "Shruti   40000.0  45000\n",
            "10.SALES2\n",
            "           2018\n",
            "Madhu    160000\n",
            "Kusum    110000\n",
            "Kinshuk  500000\n",
            "Ankit    340000\n",
            "Shruti   900000\n",
            "Empty? False\n"
          ]
        }
      ]
    }
  ]
}